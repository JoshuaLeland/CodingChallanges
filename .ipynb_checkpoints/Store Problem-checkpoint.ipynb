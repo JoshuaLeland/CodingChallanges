{
 "cells": [
  {
   "cell_type": "markdown",
   "metadata": {},
   "source": [
    "'''\n",
    "I visited a restaurant several times for a meal with one or more guests, and spent some amount of money. Given the following menu, which item(s) did I purchase for the receipt totals below?\n",
    "\n",
    "The Menu. My guests and I can order more than one of the same item.\n",
    "\n",
    "veggie sandwich: 6.85\n",
    "extra veggies: 2.20\n",
    "chicken sandwich: 7.85\n",
    "extra chicken: 3.20\n",
    "cheese: 1.25\n",
    "chips: 1.40\n",
    "nachos: 3.45\n",
    "soda: 2.05\n",
    "\n",
    "Each of the following receipt totals could have one or more solutions that result in $0.00 money left over. Give preference to a solution of items which is shorter than others for that receipt total.\n",
    "\n",
    "13.75\n",
    "4.85\n",
    "17.75\n",
    "11.05\n",
    "19.40\n",
    "28.25\n",
    "40.30\n",
    "75.00\n",
    "'''\n",
    "food = [1.25,1.40,2.20,3.20,7.85,6.85,2.05,3.45]\n",
    "total = 13.75\n",
    "food = sorted(food)\n",
    "\n",
    "def store(food,total):"
   ]
  },
  {
   "cell_type": "code",
   "execution_count": 4,
   "metadata": {},
   "outputs": [],
   "source": [
    "import math as m"
   ]
  },
  {
   "cell_type": "code",
   "execution_count": 1,
   "metadata": {},
   "outputs": [],
   "source": [
    "food = [1.25,1.40,2.20,3.20,7.85,6.85,2.05,3.45]"
   ]
  },
  {
   "cell_type": "code",
   "execution_count": 111,
   "metadata": {},
   "outputs": [],
   "source": [
    "def StoreHelper(foods, FoodList, numItems, total):\n",
    "    \n",
    "    #If our total is less than zero we don't have a valid list, so return inf and empty list\n",
    "    if total < 0.0:\n",
    "        #This List is invalid, return inf and the List.\n",
    "        return m.inf, FoodList\n",
    "    \n",
    "    #If our total is exactly zero we are done and can return list size and the list.\n",
    "    elif total == 0.0:\n",
    "        return numItems, FoodList\n",
    "    \n",
    "    else :\n",
    "        #Create the blank lists for number of Items and Food list.\n",
    "        numItemsL = []\n",
    "        FoodListL = []\n",
    "        \n",
    "        #Make a recursive call on the function.  Find the smallest number of items given we use food f.\n",
    "        for i in range(len(foods)):\n",
    "            \n",
    "            #Recursive Call: keep track of food list and number of items.\n",
    "            numItemsV, FoodListV  = StoreHelper(foods, FoodList + [foods[i]], (numItems + 1), total - foods[i])\n",
    "            \n",
    "            #Append the number of items and list.\n",
    "            numItemsL.append(numItemsV)\n",
    "            FoodListL.append(FoodListV)\n",
    "        \n",
    "        #Find the combination with smallest amount of numbers.\n",
    "        min_index = numItemsL.index(min(numItemsL))\n",
    "        \n",
    "        #Return the number of items and the food list.\n",
    "        return numItemsL[min_index], FoodListL[min_index]\n",
    "\n",
    "    \n",
    "        "
   ]
  },
  {
   "cell_type": "code",
   "execution_count": 112,
   "metadata": {},
   "outputs": [],
   "source": [
    "def Store(food, total):\n",
    "    \n",
    "    #Use our recursive helper function\n",
    "    num_foods, FoodList = StoreHelper(food, [], 0, total)\n",
    "    \n",
    "    #Only care about the List, so return that.\n",
    "    return FoodList"
   ]
  },
  {
   "cell_type": "code",
   "execution_count": 113,
   "metadata": {},
   "outputs": [],
   "source": [
    "out = Store(food, 13.75)"
   ]
  },
  {
   "cell_type": "code",
   "execution_count": 114,
   "metadata": {},
   "outputs": [
    {
     "data": {
      "text/plain": [
       "[6.85, 3.45, 3.45]"
      ]
     },
     "execution_count": 114,
     "metadata": {},
     "output_type": "execute_result"
    }
   ],
   "source": [
    "out"
   ]
  },
  {
   "cell_type": "code",
   "execution_count": 115,
   "metadata": {},
   "outputs": [
    {
     "data": {
      "text/plain": [
       "13.75"
      ]
     },
     "execution_count": 115,
     "metadata": {},
     "output_type": "execute_result"
    }
   ],
   "source": [
    "sum(out)"
   ]
  },
  {
   "cell_type": "code",
   "execution_count": null,
   "metadata": {},
   "outputs": [],
   "source": []
  }
 ],
 "metadata": {
  "kernelspec": {
   "display_name": "Python 3",
   "language": "python",
   "name": "python3"
  },
  "language_info": {
   "codemirror_mode": {
    "name": "ipython",
    "version": 3
   },
   "file_extension": ".py",
   "mimetype": "text/x-python",
   "name": "python",
   "nbconvert_exporter": "python",
   "pygments_lexer": "ipython3",
   "version": "3.6.4"
  }
 },
 "nbformat": 4,
 "nbformat_minor": 2
}
